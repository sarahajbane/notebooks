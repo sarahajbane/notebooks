{
  "nbformat": 4,
  "nbformat_minor": 0,
  "metadata": {
    "colab": {
      "provenance": [],
      "authorship_tag": "ABX9TyP7dE3006BClD+L/hsNcbKd",
      "include_colab_link": true
    },
    "kernelspec": {
      "name": "python3",
      "display_name": "Python 3"
    },
    "language_info": {
      "name": "python"
    }
  },
  "cells": [
    {
      "cell_type": "markdown",
      "metadata": {
        "id": "view-in-github",
        "colab_type": "text"
      },
      "source": [
        "<a href=\"https://colab.research.google.com/github/sarahajbane/notebooks/blob/main/car_shapes_supervised.ipynb\" target=\"_parent\"><img src=\"https://colab.research.google.com/assets/colab-badge.svg\" alt=\"Open In Colab\"/></a>"
      ]
    },
    {
      "cell_type": "markdown",
      "source": [
        "## Load libraries"
      ],
      "metadata": {
        "id": "6c6lvJ1EEPcq"
      }
    },
    {
      "cell_type": "code",
      "source": [
        "import numpy as np\n",
        "import pandas as pd\n",
        "\n",
        "from sklearn.model_selection import train_test_split, GridSearchCV\n",
        "from sklearn.preprocessing import  MinMaxScaler, LabelEncoder\n",
        "\n",
        "\n",
        "from sklearn.linear_model import LogisticRegression\n",
        "from sklearn.neighbors import KNeighborsClassifier\n",
        "from sklearn.svm import SVC\n",
        "from sklearn.tree import DecisionTreeClassifier\n",
        "from sklearn.ensemble import RandomForestClassifier, AdaBoostClassifier\n",
        "from sklearn import tree\n",
        "from sklearn.pipeline import make_pipeline\n",
        "\n",
        "from sklearn.metrics import accuracy_score, confusion_matrix, classification_report\n",
        "from sklearn.metrics import precision_score, recall_score, f1_score\n",
        "from sklearn.metrics import roc_curve, roc_auc_score, precision_recall_curve, auc\n",
        "\n",
        "import matplotlib.pyplot as plt\n",
        "import seaborn as sns\n",
        "import plotly.graph_objects as go"
      ],
      "metadata": {
        "id": "FFUdEMKBNp9e"
      },
      "execution_count": null,
      "outputs": []
    },
    {
      "cell_type": "code",
      "source": [
        "# from google.colab import drive\n",
        "# drive.mount('/content/drive')"
      ],
      "metadata": {
        "id": "AWjEVmA5IJqA"
      },
      "execution_count": null,
      "outputs": []
    },
    {
      "cell_type": "markdown",
      "source": [
        "## Import and clean data"
      ],
      "metadata": {
        "id": "wcNcYdnvEKrt"
      }
    },
    {
      "cell_type": "code",
      "execution_count": null,
      "metadata": {
        "colab": {
          "base_uri": "https://localhost:8080/",
          "height": 224
        },
        "id": "iqSbt48qNgH5",
        "outputId": "fefc78bf-d16d-4df2-93a2-430679460990"
      },
      "outputs": [
        {
          "output_type": "execute_result",
          "data": {
            "text/plain": [
              "   compactness  circularity  distance_circularity  radius_ratio  \\\n",
              "0           95         48.0                  83.0         178.0   \n",
              "1           91         41.0                  84.0         141.0   \n",
              "2          104         50.0                 106.0         209.0   \n",
              "3           93         41.0                  82.0         159.0   \n",
              "4           85         44.0                  70.0         205.0   \n",
              "\n",
              "   pr.axis_aspect_ratio  max.length_aspect_ratio  scatter_ratio  \\\n",
              "0                  72.0                       10          162.0   \n",
              "1                  57.0                        9          149.0   \n",
              "2                  66.0                       10          207.0   \n",
              "3                  63.0                        9          144.0   \n",
              "4                 103.0                       52          149.0   \n",
              "\n",
              "   elongatedness  pr.axis_rectangularity  max.length_rectangularity  \\\n",
              "0           42.0                    20.0                        159   \n",
              "1           45.0                    19.0                        143   \n",
              "2           32.0                    23.0                        158   \n",
              "3           46.0                    19.0                        143   \n",
              "4           45.0                    19.0                        144   \n",
              "\n",
              "   scaled_variance  scaled_variance.1  scaled_radius_of_gyration  \\\n",
              "0            176.0              379.0                      184.0   \n",
              "1            170.0              330.0                      158.0   \n",
              "2            223.0              635.0                      220.0   \n",
              "3            160.0              309.0                      127.0   \n",
              "4            241.0              325.0                      188.0   \n",
              "\n",
              "   scaled_radius_of_gyration.1  skewness_about  skewness_about.1  \\\n",
              "0                         70.0             6.0              16.0   \n",
              "1                         72.0             9.0              14.0   \n",
              "2                         73.0            14.0               9.0   \n",
              "3                         63.0             6.0              10.0   \n",
              "4                        127.0             9.0              11.0   \n",
              "\n",
              "   skewness_about.2  hollows_ratio class  \n",
              "0             187.0            197   van  \n",
              "1             189.0            199   van  \n",
              "2             188.0            196   car  \n",
              "3             199.0            207   van  \n",
              "4             180.0            183   bus  "
            ],
            "text/html": [
              "\n",
              "  <div id=\"df-d0cb9db8-d9a8-4061-b593-16757462a016\" class=\"colab-df-container\">\n",
              "    <div>\n",
              "<style scoped>\n",
              "    .dataframe tbody tr th:only-of-type {\n",
              "        vertical-align: middle;\n",
              "    }\n",
              "\n",
              "    .dataframe tbody tr th {\n",
              "        vertical-align: top;\n",
              "    }\n",
              "\n",
              "    .dataframe thead th {\n",
              "        text-align: right;\n",
              "    }\n",
              "</style>\n",
              "<table border=\"1\" class=\"dataframe\">\n",
              "  <thead>\n",
              "    <tr style=\"text-align: right;\">\n",
              "      <th></th>\n",
              "      <th>compactness</th>\n",
              "      <th>circularity</th>\n",
              "      <th>distance_circularity</th>\n",
              "      <th>radius_ratio</th>\n",
              "      <th>pr.axis_aspect_ratio</th>\n",
              "      <th>max.length_aspect_ratio</th>\n",
              "      <th>scatter_ratio</th>\n",
              "      <th>elongatedness</th>\n",
              "      <th>pr.axis_rectangularity</th>\n",
              "      <th>max.length_rectangularity</th>\n",
              "      <th>scaled_variance</th>\n",
              "      <th>scaled_variance.1</th>\n",
              "      <th>scaled_radius_of_gyration</th>\n",
              "      <th>scaled_radius_of_gyration.1</th>\n",
              "      <th>skewness_about</th>\n",
              "      <th>skewness_about.1</th>\n",
              "      <th>skewness_about.2</th>\n",
              "      <th>hollows_ratio</th>\n",
              "      <th>class</th>\n",
              "    </tr>\n",
              "  </thead>\n",
              "  <tbody>\n",
              "    <tr>\n",
              "      <th>0</th>\n",
              "      <td>95</td>\n",
              "      <td>48.0</td>\n",
              "      <td>83.0</td>\n",
              "      <td>178.0</td>\n",
              "      <td>72.0</td>\n",
              "      <td>10</td>\n",
              "      <td>162.0</td>\n",
              "      <td>42.0</td>\n",
              "      <td>20.0</td>\n",
              "      <td>159</td>\n",
              "      <td>176.0</td>\n",
              "      <td>379.0</td>\n",
              "      <td>184.0</td>\n",
              "      <td>70.0</td>\n",
              "      <td>6.0</td>\n",
              "      <td>16.0</td>\n",
              "      <td>187.0</td>\n",
              "      <td>197</td>\n",
              "      <td>van</td>\n",
              "    </tr>\n",
              "    <tr>\n",
              "      <th>1</th>\n",
              "      <td>91</td>\n",
              "      <td>41.0</td>\n",
              "      <td>84.0</td>\n",
              "      <td>141.0</td>\n",
              "      <td>57.0</td>\n",
              "      <td>9</td>\n",
              "      <td>149.0</td>\n",
              "      <td>45.0</td>\n",
              "      <td>19.0</td>\n",
              "      <td>143</td>\n",
              "      <td>170.0</td>\n",
              "      <td>330.0</td>\n",
              "      <td>158.0</td>\n",
              "      <td>72.0</td>\n",
              "      <td>9.0</td>\n",
              "      <td>14.0</td>\n",
              "      <td>189.0</td>\n",
              "      <td>199</td>\n",
              "      <td>van</td>\n",
              "    </tr>\n",
              "    <tr>\n",
              "      <th>2</th>\n",
              "      <td>104</td>\n",
              "      <td>50.0</td>\n",
              "      <td>106.0</td>\n",
              "      <td>209.0</td>\n",
              "      <td>66.0</td>\n",
              "      <td>10</td>\n",
              "      <td>207.0</td>\n",
              "      <td>32.0</td>\n",
              "      <td>23.0</td>\n",
              "      <td>158</td>\n",
              "      <td>223.0</td>\n",
              "      <td>635.0</td>\n",
              "      <td>220.0</td>\n",
              "      <td>73.0</td>\n",
              "      <td>14.0</td>\n",
              "      <td>9.0</td>\n",
              "      <td>188.0</td>\n",
              "      <td>196</td>\n",
              "      <td>car</td>\n",
              "    </tr>\n",
              "    <tr>\n",
              "      <th>3</th>\n",
              "      <td>93</td>\n",
              "      <td>41.0</td>\n",
              "      <td>82.0</td>\n",
              "      <td>159.0</td>\n",
              "      <td>63.0</td>\n",
              "      <td>9</td>\n",
              "      <td>144.0</td>\n",
              "      <td>46.0</td>\n",
              "      <td>19.0</td>\n",
              "      <td>143</td>\n",
              "      <td>160.0</td>\n",
              "      <td>309.0</td>\n",
              "      <td>127.0</td>\n",
              "      <td>63.0</td>\n",
              "      <td>6.0</td>\n",
              "      <td>10.0</td>\n",
              "      <td>199.0</td>\n",
              "      <td>207</td>\n",
              "      <td>van</td>\n",
              "    </tr>\n",
              "    <tr>\n",
              "      <th>4</th>\n",
              "      <td>85</td>\n",
              "      <td>44.0</td>\n",
              "      <td>70.0</td>\n",
              "      <td>205.0</td>\n",
              "      <td>103.0</td>\n",
              "      <td>52</td>\n",
              "      <td>149.0</td>\n",
              "      <td>45.0</td>\n",
              "      <td>19.0</td>\n",
              "      <td>144</td>\n",
              "      <td>241.0</td>\n",
              "      <td>325.0</td>\n",
              "      <td>188.0</td>\n",
              "      <td>127.0</td>\n",
              "      <td>9.0</td>\n",
              "      <td>11.0</td>\n",
              "      <td>180.0</td>\n",
              "      <td>183</td>\n",
              "      <td>bus</td>\n",
              "    </tr>\n",
              "  </tbody>\n",
              "</table>\n",
              "</div>\n",
              "    <div class=\"colab-df-buttons\">\n",
              "\n",
              "  <div class=\"colab-df-container\">\n",
              "    <button class=\"colab-df-convert\" onclick=\"convertToInteractive('df-d0cb9db8-d9a8-4061-b593-16757462a016')\"\n",
              "            title=\"Convert this dataframe to an interactive table.\"\n",
              "            style=\"display:none;\">\n",
              "\n",
              "  <svg xmlns=\"http://www.w3.org/2000/svg\" height=\"24px\" viewBox=\"0 -960 960 960\">\n",
              "    <path d=\"M120-120v-720h720v720H120Zm60-500h600v-160H180v160Zm220 220h160v-160H400v160Zm0 220h160v-160H400v160ZM180-400h160v-160H180v160Zm440 0h160v-160H620v160ZM180-180h160v-160H180v160Zm440 0h160v-160H620v160Z\"/>\n",
              "  </svg>\n",
              "    </button>\n",
              "\n",
              "  <style>\n",
              "    .colab-df-container {\n",
              "      display:flex;\n",
              "      gap: 12px;\n",
              "    }\n",
              "\n",
              "    .colab-df-convert {\n",
              "      background-color: #E8F0FE;\n",
              "      border: none;\n",
              "      border-radius: 50%;\n",
              "      cursor: pointer;\n",
              "      display: none;\n",
              "      fill: #1967D2;\n",
              "      height: 32px;\n",
              "      padding: 0 0 0 0;\n",
              "      width: 32px;\n",
              "    }\n",
              "\n",
              "    .colab-df-convert:hover {\n",
              "      background-color: #E2EBFA;\n",
              "      box-shadow: 0px 1px 2px rgba(60, 64, 67, 0.3), 0px 1px 3px 1px rgba(60, 64, 67, 0.15);\n",
              "      fill: #174EA6;\n",
              "    }\n",
              "\n",
              "    .colab-df-buttons div {\n",
              "      margin-bottom: 4px;\n",
              "    }\n",
              "\n",
              "    [theme=dark] .colab-df-convert {\n",
              "      background-color: #3B4455;\n",
              "      fill: #D2E3FC;\n",
              "    }\n",
              "\n",
              "    [theme=dark] .colab-df-convert:hover {\n",
              "      background-color: #434B5C;\n",
              "      box-shadow: 0px 1px 3px 1px rgba(0, 0, 0, 0.15);\n",
              "      filter: drop-shadow(0px 1px 2px rgba(0, 0, 0, 0.3));\n",
              "      fill: #FFFFFF;\n",
              "    }\n",
              "  </style>\n",
              "\n",
              "    <script>\n",
              "      const buttonEl =\n",
              "        document.querySelector('#df-d0cb9db8-d9a8-4061-b593-16757462a016 button.colab-df-convert');\n",
              "      buttonEl.style.display =\n",
              "        google.colab.kernel.accessAllowed ? 'block' : 'none';\n",
              "\n",
              "      async function convertToInteractive(key) {\n",
              "        const element = document.querySelector('#df-d0cb9db8-d9a8-4061-b593-16757462a016');\n",
              "        const dataTable =\n",
              "          await google.colab.kernel.invokeFunction('convertToInteractive',\n",
              "                                                    [key], {});\n",
              "        if (!dataTable) return;\n",
              "\n",
              "        const docLinkHtml = 'Like what you see? Visit the ' +\n",
              "          '<a target=\"_blank\" href=https://colab.research.google.com/notebooks/data_table.ipynb>data table notebook</a>'\n",
              "          + ' to learn more about interactive tables.';\n",
              "        element.innerHTML = '';\n",
              "        dataTable['output_type'] = 'display_data';\n",
              "        await google.colab.output.renderOutput(dataTable, element);\n",
              "        const docLink = document.createElement('div');\n",
              "        docLink.innerHTML = docLinkHtml;\n",
              "        element.appendChild(docLink);\n",
              "      }\n",
              "    </script>\n",
              "  </div>\n",
              "\n",
              "\n",
              "<div id=\"df-bef96745-0dfd-4d52-82e8-526ced01e2f0\">\n",
              "  <button class=\"colab-df-quickchart\" onclick=\"quickchart('df-bef96745-0dfd-4d52-82e8-526ced01e2f0')\"\n",
              "            title=\"Suggest charts\"\n",
              "            style=\"display:none;\">\n",
              "\n",
              "<svg xmlns=\"http://www.w3.org/2000/svg\" height=\"24px\"viewBox=\"0 0 24 24\"\n",
              "     width=\"24px\">\n",
              "    <g>\n",
              "        <path d=\"M19 3H5c-1.1 0-2 .9-2 2v14c0 1.1.9 2 2 2h14c1.1 0 2-.9 2-2V5c0-1.1-.9-2-2-2zM9 17H7v-7h2v7zm4 0h-2V7h2v10zm4 0h-2v-4h2v4z\"/>\n",
              "    </g>\n",
              "</svg>\n",
              "  </button>\n",
              "\n",
              "<style>\n",
              "  .colab-df-quickchart {\n",
              "      --bg-color: #E8F0FE;\n",
              "      --fill-color: #1967D2;\n",
              "      --hover-bg-color: #E2EBFA;\n",
              "      --hover-fill-color: #174EA6;\n",
              "      --disabled-fill-color: #AAA;\n",
              "      --disabled-bg-color: #DDD;\n",
              "  }\n",
              "\n",
              "  [theme=dark] .colab-df-quickchart {\n",
              "      --bg-color: #3B4455;\n",
              "      --fill-color: #D2E3FC;\n",
              "      --hover-bg-color: #434B5C;\n",
              "      --hover-fill-color: #FFFFFF;\n",
              "      --disabled-bg-color: #3B4455;\n",
              "      --disabled-fill-color: #666;\n",
              "  }\n",
              "\n",
              "  .colab-df-quickchart {\n",
              "    background-color: var(--bg-color);\n",
              "    border: none;\n",
              "    border-radius: 50%;\n",
              "    cursor: pointer;\n",
              "    display: none;\n",
              "    fill: var(--fill-color);\n",
              "    height: 32px;\n",
              "    padding: 0;\n",
              "    width: 32px;\n",
              "  }\n",
              "\n",
              "  .colab-df-quickchart:hover {\n",
              "    background-color: var(--hover-bg-color);\n",
              "    box-shadow: 0 1px 2px rgba(60, 64, 67, 0.3), 0 1px 3px 1px rgba(60, 64, 67, 0.15);\n",
              "    fill: var(--button-hover-fill-color);\n",
              "  }\n",
              "\n",
              "  .colab-df-quickchart-complete:disabled,\n",
              "  .colab-df-quickchart-complete:disabled:hover {\n",
              "    background-color: var(--disabled-bg-color);\n",
              "    fill: var(--disabled-fill-color);\n",
              "    box-shadow: none;\n",
              "  }\n",
              "\n",
              "  .colab-df-spinner {\n",
              "    border: 2px solid var(--fill-color);\n",
              "    border-color: transparent;\n",
              "    border-bottom-color: var(--fill-color);\n",
              "    animation:\n",
              "      spin 1s steps(1) infinite;\n",
              "  }\n",
              "\n",
              "  @keyframes spin {\n",
              "    0% {\n",
              "      border-color: transparent;\n",
              "      border-bottom-color: var(--fill-color);\n",
              "      border-left-color: var(--fill-color);\n",
              "    }\n",
              "    20% {\n",
              "      border-color: transparent;\n",
              "      border-left-color: var(--fill-color);\n",
              "      border-top-color: var(--fill-color);\n",
              "    }\n",
              "    30% {\n",
              "      border-color: transparent;\n",
              "      border-left-color: var(--fill-color);\n",
              "      border-top-color: var(--fill-color);\n",
              "      border-right-color: var(--fill-color);\n",
              "    }\n",
              "    40% {\n",
              "      border-color: transparent;\n",
              "      border-right-color: var(--fill-color);\n",
              "      border-top-color: var(--fill-color);\n",
              "    }\n",
              "    60% {\n",
              "      border-color: transparent;\n",
              "      border-right-color: var(--fill-color);\n",
              "    }\n",
              "    80% {\n",
              "      border-color: transparent;\n",
              "      border-right-color: var(--fill-color);\n",
              "      border-bottom-color: var(--fill-color);\n",
              "    }\n",
              "    90% {\n",
              "      border-color: transparent;\n",
              "      border-bottom-color: var(--fill-color);\n",
              "    }\n",
              "  }\n",
              "</style>\n",
              "\n",
              "  <script>\n",
              "    async function quickchart(key) {\n",
              "      const quickchartButtonEl =\n",
              "        document.querySelector('#' + key + ' button');\n",
              "      quickchartButtonEl.disabled = true;  // To prevent multiple clicks.\n",
              "      quickchartButtonEl.classList.add('colab-df-spinner');\n",
              "      try {\n",
              "        const charts = await google.colab.kernel.invokeFunction(\n",
              "            'suggestCharts', [key], {});\n",
              "      } catch (error) {\n",
              "        console.error('Error during call to suggestCharts:', error);\n",
              "      }\n",
              "      quickchartButtonEl.classList.remove('colab-df-spinner');\n",
              "      quickchartButtonEl.classList.add('colab-df-quickchart-complete');\n",
              "    }\n",
              "    (() => {\n",
              "      let quickchartButtonEl =\n",
              "        document.querySelector('#df-bef96745-0dfd-4d52-82e8-526ced01e2f0 button');\n",
              "      quickchartButtonEl.style.display =\n",
              "        google.colab.kernel.accessAllowed ? 'block' : 'none';\n",
              "    })();\n",
              "  </script>\n",
              "</div>\n",
              "\n",
              "    </div>\n",
              "  </div>\n"
            ],
            "application/vnd.google.colaboratory.intrinsic+json": {
              "type": "dataframe",
              "variable_name": "df",
              "summary": "{\n  \"name\": \"df\",\n  \"rows\": 846,\n  \"fields\": [\n    {\n      \"column\": \"compactness\",\n      \"properties\": {\n        \"dtype\": \"number\",\n        \"std\": 8,\n        \"min\": 73,\n        \"max\": 119,\n        \"num_unique_values\": 44,\n        \"samples\": [\n          112,\n          119,\n          78\n        ],\n        \"semantic_type\": \"\",\n        \"description\": \"\"\n      }\n    },\n    {\n      \"column\": \"circularity\",\n      \"properties\": {\n        \"dtype\": \"number\",\n        \"std\": 6.152171861813708,\n        \"min\": 33.0,\n        \"max\": 59.0,\n        \"num_unique_values\": 27,\n        \"samples\": [\n          42.0,\n          47.0,\n          49.0\n        ],\n        \"semantic_type\": \"\",\n        \"description\": \"\"\n      }\n    },\n    {\n      \"column\": \"distance_circularity\",\n      \"properties\": {\n        \"dtype\": \"number\",\n        \"std\": 15.778291805673947,\n        \"min\": 40.0,\n        \"max\": 112.0,\n        \"num_unique_values\": 63,\n        \"samples\": [\n          52.0,\n          61.0,\n          83.0\n        ],\n        \"semantic_type\": \"\",\n        \"description\": \"\"\n      }\n    },\n    {\n      \"column\": \"radius_ratio\",\n      \"properties\": {\n        \"dtype\": \"number\",\n        \"std\": 33.52019797334266,\n        \"min\": 104.0,\n        \"max\": 333.0,\n        \"num_unique_values\": 134,\n        \"samples\": [\n          104.0,\n          116.0,\n          132.0\n        ],\n        \"semantic_type\": \"\",\n        \"description\": \"\"\n      }\n    },\n    {\n      \"column\": \"pr.axis_aspect_ratio\",\n      \"properties\": {\n        \"dtype\": \"number\",\n        \"std\": 7.891463065900421,\n        \"min\": 47.0,\n        \"max\": 138.0,\n        \"num_unique_values\": 37,\n        \"samples\": [\n          67.0,\n          52.0,\n          103.0\n        ],\n        \"semantic_type\": \"\",\n        \"description\": \"\"\n      }\n    },\n    {\n      \"column\": \"max.length_aspect_ratio\",\n      \"properties\": {\n        \"dtype\": \"number\",\n        \"std\": 4,\n        \"min\": 2,\n        \"max\": 55,\n        \"num_unique_values\": 21,\n        \"samples\": [\n          10,\n          46,\n          43\n        ],\n        \"semantic_type\": \"\",\n        \"description\": \"\"\n      }\n    },\n    {\n      \"column\": \"scatter_ratio\",\n      \"properties\": {\n        \"dtype\": \"number\",\n        \"std\": 33.214847921336805,\n        \"min\": 112.0,\n        \"max\": 265.0,\n        \"num_unique_values\": 131,\n        \"samples\": [\n          127.0,\n          163.0,\n          150.0\n        ],\n        \"semantic_type\": \"\",\n        \"description\": \"\"\n      }\n    },\n    {\n      \"column\": \"elongatedness\",\n      \"properties\": {\n        \"dtype\": \"number\",\n        \"std\": 7.816185718829107,\n        \"min\": 26.0,\n        \"max\": 61.0,\n        \"num_unique_values\": 35,\n        \"samples\": [\n          39.0,\n          31.0,\n          38.0\n        ],\n        \"semantic_type\": \"\",\n        \"description\": \"\"\n      }\n    },\n    {\n      \"column\": \"pr.axis_rectangularity\",\n      \"properties\": {\n        \"dtype\": \"number\",\n        \"std\": 2.5929330612155854,\n        \"min\": 17.0,\n        \"max\": 29.0,\n        \"num_unique_values\": 13,\n        \"samples\": [\n          26.0,\n          25.0,\n          20.0\n        ],\n        \"semantic_type\": \"\",\n        \"description\": \"\"\n      }\n    },\n    {\n      \"column\": \"max.length_rectangularity\",\n      \"properties\": {\n        \"dtype\": \"number\",\n        \"std\": 14,\n        \"min\": 118,\n        \"max\": 188,\n        \"num_unique_values\": 66,\n        \"samples\": [\n          149,\n          182,\n          159\n        ],\n        \"semantic_type\": \"\",\n        \"description\": \"\"\n      }\n    },\n    {\n      \"column\": \"scaled_variance\",\n      \"properties\": {\n        \"dtype\": \"number\",\n        \"std\": 31.411003596400825,\n        \"min\": 130.0,\n        \"max\": 320.0,\n        \"num_unique_values\": 128,\n        \"samples\": [\n          218.0,\n          154.0,\n          164.0\n        ],\n        \"semantic_type\": \"\",\n        \"description\": \"\"\n      }\n    },\n    {\n      \"column\": \"scaled_variance.1\",\n      \"properties\": {\n        \"dtype\": \"number\",\n        \"std\": 176.66690269589347,\n        \"min\": 184.0,\n        \"max\": 1018.0,\n        \"num_unique_values\": 422,\n        \"samples\": [\n          674.0,\n          677.0,\n          274.0\n        ],\n        \"semantic_type\": \"\",\n        \"description\": \"\"\n      }\n    },\n    {\n      \"column\": \"scaled_radius_of_gyration\",\n      \"properties\": {\n        \"dtype\": \"number\",\n        \"std\": 32.58480823264773,\n        \"min\": 109.0,\n        \"max\": 268.0,\n        \"num_unique_values\": 143,\n        \"samples\": [\n          261.0,\n          177.0,\n          115.0\n        ],\n        \"semantic_type\": \"\",\n        \"description\": \"\"\n      }\n    },\n    {\n      \"column\": \"scaled_radius_of_gyration.1\",\n      \"properties\": {\n        \"dtype\": \"number\",\n        \"std\": 7.4861902756045025,\n        \"min\": 59.0,\n        \"max\": 135.0,\n        \"num_unique_values\": 39,\n        \"samples\": [\n          90.0,\n          91.0,\n          127.0\n        ],\n        \"semantic_type\": \"\",\n        \"description\": \"\"\n      }\n    },\n    {\n      \"column\": \"skewness_about\",\n      \"properties\": {\n        \"dtype\": \"number\",\n        \"std\": 4.920649076276183,\n        \"min\": 0.0,\n        \"max\": 22.0,\n        \"num_unique_values\": 23,\n        \"samples\": [\n          18.0,\n          0.0,\n          6.0\n        ],\n        \"semantic_type\": \"\",\n        \"description\": \"\"\n      }\n    },\n    {\n      \"column\": \"skewness_about.1\",\n      \"properties\": {\n        \"dtype\": \"number\",\n        \"std\": 8.93608129403976,\n        \"min\": 0.0,\n        \"max\": 41.0,\n        \"num_unique_values\": 41,\n        \"samples\": [\n          23.0,\n          28.0,\n          13.0\n        ],\n        \"semantic_type\": \"\",\n        \"description\": \"\"\n      }\n    },\n    {\n      \"column\": \"skewness_about.2\",\n      \"properties\": {\n        \"dtype\": \"number\",\n        \"std\": 6.155809475363884,\n        \"min\": 176.0,\n        \"max\": 206.0,\n        \"num_unique_values\": 30,\n        \"samples\": [\n          177.0,\n          179.0,\n          182.0\n        ],\n        \"semantic_type\": \"\",\n        \"description\": \"\"\n      }\n    },\n    {\n      \"column\": \"hollows_ratio\",\n      \"properties\": {\n        \"dtype\": \"number\",\n        \"std\": 7,\n        \"min\": 181,\n        \"max\": 211,\n        \"num_unique_values\": 31,\n        \"samples\": [\n          186,\n          205,\n          198\n        ],\n        \"semantic_type\": \"\",\n        \"description\": \"\"\n      }\n    },\n    {\n      \"column\": \"class\",\n      \"properties\": {\n        \"dtype\": \"category\",\n        \"num_unique_values\": 3,\n        \"samples\": [\n          \"van\",\n          \"car\",\n          \"bus\"\n        ],\n        \"semantic_type\": \"\",\n        \"description\": \"\"\n      }\n    }\n  ]\n}"
            }
          },
          "metadata": {},
          "execution_count": 3
        }
      ],
      "source": [
        "data = !wget -O 'data.csv' 'https://drive.google.com/uc?id=1MnXNtmjQcFjAtM4IUrGlPY3_P820cRD3'\n",
        "df = pd.read_csv(\"/content/data.csv\")\n",
        "df.head()\n",
        "\n",
        "# OR load from local current directory or drive content folder if already present & connected\n",
        "# df = pd.read_csv(\"./vehicle.csv\")"
      ]
    },
    {
      "cell_type": "code",
      "source": [
        "df.info()"
      ],
      "metadata": {
        "id": "GhT5atVJNyza"
      },
      "execution_count": null,
      "outputs": []
    },
    {
      "cell_type": "code",
      "source": [
        "df.isna().sum()"
      ],
      "metadata": {
        "id": "5_Hsgo-tEI_q"
      },
      "execution_count": null,
      "outputs": []
    },
    {
      "cell_type": "code",
      "source": [
        "df.duplicated().sum()"
      ],
      "metadata": {
        "id": "GuQKnbL7EYyS"
      },
      "execution_count": null,
      "outputs": []
    },
    {
      "cell_type": "markdown",
      "source": [
        "All NaNs are float64, but all floats seem to be integers (.0 only). Few NaNs overall and no fractions, so better to drop the NaNs than impute non-floats or turn all numerical data into integers before imputation."
      ],
      "metadata": {
        "id": "Nh6054KjEa9V"
      }
    },
    {
      "cell_type": "code",
      "source": [
        "df.dropna(inplace=True)  # Drop NaN values from df\n",
        "df.to_csv(\"./clean_vehicle.csv\", index=False)  # Save the cleaned dataframe to a new CSV file"
      ],
      "metadata": {
        "id": "sigCqdHmEYry"
      },
      "execution_count": null,
      "outputs": []
    },
    {
      "cell_type": "markdown",
      "source": [
        "## EDA"
      ],
      "metadata": {
        "id": "e6MYu6iYErT9"
      }
    },
    {
      "cell_type": "code",
      "source": [
        "# Reload the cleaned dataframe if necessary\n",
        "# df = pd.read_csv(\"./clean_vehicle.csv\")"
      ],
      "metadata": {
        "id": "tkPUsxhsEYlT"
      },
      "execution_count": null,
      "outputs": []
    },
    {
      "cell_type": "code",
      "source": [
        "df['class'].unique()"
      ],
      "metadata": {
        "id": "hcdL7zDvEYeN"
      },
      "execution_count": null,
      "outputs": []
    },
    {
      "cell_type": "code",
      "source": [
        "plt.figure(figsize=(4, 2))\n",
        "sns.countplot(df['class'])\n",
        "plt.show()"
      ],
      "metadata": {
        "id": "-5iEi4sGEYW7"
      },
      "execution_count": null,
      "outputs": []
    },
    {
      "cell_type": "markdown",
      "source": [
        "Data seems a little unbalanced off the bat with twice as many cars as buses and vans, due to combining two car types in the same class."
      ],
      "metadata": {
        "id": "1L9Jp-xcE4KG"
      }
    },
    {
      "cell_type": "code",
      "source": [
        "df.hist(figsize=(15, 10), bins=15)\n",
        "plt.tight_layout()"
      ],
      "metadata": {
        "id": "AnKc9MjrEYPX"
      },
      "execution_count": null,
      "outputs": []
    },
    {
      "cell_type": "markdown",
      "source": [
        "pr.axis_rectangularly might deliniate the different classes but unclear from this figure alone, and counts seem off."
      ],
      "metadata": {
        "id": "-2MFxYDDE--O"
      }
    },
    {
      "cell_type": "code",
      "source": [
        "# replot histograms with class colour and kde to understand distribution of each category\n",
        "\n",
        "i = 0  # Initialize the subplot index\n",
        "plt.figure(figsize=(10, 20))\n",
        "for column in df.drop(columns=['class']).columns:\n",
        "    plt.subplot(6, 3, i + 1)\n",
        "    sns.histplot(data=df, x=column, hue='class', bins=15, kde=True, palette='Set2')\n",
        "    plt.title(f'{column} by class')\n",
        "    plt.xlabel('')\n",
        "    plt.ylabel('')\n",
        "    if column == 'distance_circularity':\n",
        "        plt.legend(title='vehicle class', loc='upper left', labels=df['class'].unique())\n",
        "    else:\n",
        "        plt.legend([],[], frameon=False)\n",
        "    plt.tight_layout()\n",
        "    i += 1  # Increment the subplot index\n",
        "\n",
        "plt.show()"
      ],
      "metadata": {
        "id": "a_JS34xCE5oC"
      },
      "execution_count": null,
      "outputs": []
    },
    {
      "cell_type": "markdown",
      "source": [
        "no clear separation in distribution between the classes. Higher peaks for cars are just an artefact of the class being twice as numerous.\n",
        "Will need to use a model using all features to predict the class, as none stand out in particular for feature selection, and 18 are manageable."
      ],
      "metadata": {
        "id": "kh-TlsJ3FFst"
      }
    },
    {
      "cell_type": "code",
      "source": [
        "plt.figure(figsize=(15, 10))\n",
        "mask = np.zeros_like(df.drop(columns=['class']).corr())\n",
        "mask[np.triu_indices_from(mask)] = True\n",
        "sns.heatmap(df.drop(columns=['class']).corr(), annot=True, cmap='coolwarm', mask=mask)\n",
        "plt.xticks(rotation=35, ha='right')\n",
        "plt.show()"
      ],
      "metadata": {
        "id": "oW8-jh9VE6lx"
      },
      "execution_count": null,
      "outputs": []
    },
    {
      "cell_type": "markdown",
      "source": [
        "Ignoring the labelled targets, features of circularity, rectangularity, and elongatedness have strong correlations with each other and features of skewedness, variance and scatter/hollows ratio, but the meaning of the latter or how they are derived is unclear/unknown.\n"
      ],
      "metadata": {
        "id": "8ihewPdCFLSS"
      }
    },
    {
      "cell_type": "code",
      "source": [
        "# Look at boxplots by car type with scatter to complete the EDA\n",
        "selected_features = ['compactness','circularity', 'elongatedness', 'max.length_rectangularity',\n",
        "                     'skewness_about', 'scaled_variance', 'scatter_ratio','hollows_ratio']\n",
        "\n",
        "plt.figure(figsize=(20, 15))\n",
        "num_columns = 4\n",
        "num_rows = 2\n",
        "\n",
        "for i, feature in enumerate(selected_features):\n",
        "    plt.subplot(num_rows, num_columns, i + 1)\n",
        "    sns.boxplot(x='class', y=feature, data=df)\n",
        "    sns.stripplot(x = 'class', y = feature, data = df,\n",
        "              jitter=True,\n",
        "              marker='o',\n",
        "              alpha=0.8,\n",
        "              color=\"red\")\n",
        "    plt.title(feature)\n",
        "\n",
        "plt.tight_layout()\n",
        "plt.show()"
      ],
      "metadata": {
        "id": "3lJ3cW76E6h3"
      },
      "execution_count": null,
      "outputs": []
    },
    {
      "cell_type": "markdown",
      "source": [
        "Nothing obviously different here between the 3 target classes, but scatter_ratio and scaled_variance show some more significant clustered patterns for cars and bus types."
      ],
      "metadata": {
        "id": "gxgHPoAkFQ4W"
      }
    },
    {
      "cell_type": "markdown",
      "source": [
        "## Split and pre-process data for model training and testing"
      ],
      "metadata": {
        "id": "I-z5trOZFT5T"
      }
    },
    {
      "cell_type": "code",
      "source": [
        "#Scale the feature data\n",
        "scaler = MinMaxScaler()\n",
        "X = df.drop(columns=['class'])  # Features\n",
        "y = df['class']  # Target\n",
        "X_scaled = scaler.fit_transform(X)\n",
        "X_scaled = pd.DataFrame(X_scaled, columns=X.columns)\n",
        "X_scaled"
      ],
      "metadata": {
        "id": "hqOMZEdAE6fx"
      },
      "execution_count": null,
      "outputs": []
    },
    {
      "cell_type": "code",
      "source": [
        "#split data into features, target, test, and train\n",
        "X_train, X_test, y_train, y_test = train_test_split(X,y, test_size=0.2, stratify=y, random_state=42)"
      ],
      "metadata": {
        "id": "U6LZGcNFE6dK"
      },
      "execution_count": null,
      "outputs": []
    },
    {
      "cell_type": "code",
      "source": [
        "# assign numeric class through encoder\n",
        "enc = LabelEncoder()\n",
        "y_train_encoded = enc.fit_transform(y_train)\n",
        "y_train_encoded[:10]"
      ],
      "metadata": {
        "id": "7xsNVve8E6bF"
      },
      "execution_count": null,
      "outputs": []
    },
    {
      "cell_type": "code",
      "source": [
        "#same for test set\n",
        "y_test_encoded = enc.fit_transform(y_test)\n",
        "y_test_encoded[:10]"
      ],
      "metadata": {
        "id": "DXj-bX5WE6Yf"
      },
      "execution_count": null,
      "outputs": []
    },
    {
      "cell_type": "markdown",
      "source": [
        "## Try different classification models to find the best results"
      ],
      "metadata": {
        "id": "SOq47TbIFtll"
      }
    },
    {
      "cell_type": "code",
      "source": [
        "lr = LogisticRegression(max_iter=10000, random_state=42, multi_class='ovr')\n",
        "knn = KNeighborsClassifier()\n",
        "svm = SVC(random_state=42)\n",
        "dt = DecisionTreeClassifier(random_state=42)\n",
        "rfc = RandomForestClassifier(random_state=42)\n",
        "ada = AdaBoostClassifier(random_state=42)"
      ],
      "metadata": {
        "id": "EopqiPMfE6Vn"
      },
      "execution_count": null,
      "outputs": []
    },
    {
      "cell_type": "code",
      "source": [
        "lr_model = make_pipeline(lr)\n",
        "knn_model = make_pipeline(knn)\n",
        "svm_model = make_pipeline(svm)\n",
        "dtc_model = make_pipeline(dt)\n",
        "rfc_model = make_pipeline(rfc)\n",
        "abc_model = make_pipeline(ada)"
      ],
      "metadata": {
        "id": "6JSBLurjE6Sg"
      },
      "execution_count": null,
      "outputs": []
    },
    {
      "cell_type": "code",
      "source": [
        "lr_model.fit(X_train, y_train_encoded)\n",
        "knn_model.fit(X_train, y_train_encoded)\n",
        "svm_model.fit(X_train, y_train_encoded)\n",
        "dtc_model.fit(X_train, y_train_encoded)\n",
        "rfc_model.fit(X_train, y_train_encoded)\n",
        "abc_model.fit(X_train, y_train_encoded)"
      ],
      "metadata": {
        "id": "ZGNNIK9SE6Kt"
      },
      "execution_count": null,
      "outputs": []
    },
    {
      "cell_type": "code",
      "source": [
        "# quick look at feature importances - highest are scaled_variance.1 and elongatedness\n",
        "rfc_model.fit(X_train, y_train)\n",
        "rfc_model.named_steps['randomforestclassifier'].feature_importances_"
      ],
      "metadata": {
        "id": "7oFn41IIEYGT"
      },
      "execution_count": null,
      "outputs": []
    },
    {
      "cell_type": "code",
      "source": [
        "print( f\"Logistic Regression: {lr_model.score(X_train, y_train_encoded)}\")\n",
        "print( f\"KNN: {knn_model.score(X_train, y_train_encoded)}\")\n",
        "print( f\"SVM: {svm_model.score(X_train, y_train_encoded)}\")\n",
        "print( f\"Decision Tree: {dtc_model.score(X_train, y_train_encoded)}\")\n",
        "print( f\"Random Forest: {rfc_model.score(X_train, y_train_encoded)}\")\n",
        "print( f\"AdaBoost: {abc_model.score(X_train, y_train_encoded)}\")"
      ],
      "metadata": {
        "id": "XCWq6JEWF5pr"
      },
      "execution_count": null,
      "outputs": []
    },
    {
      "cell_type": "markdown",
      "source": [
        "DecisionTreeClassifier and RandomForestClassifier have the highest accuracy scores, both with 100%. Danger of overfitting, so we will test all the models for evaluation. Logistic Regression also performs very well."
      ],
      "metadata": {
        "id": "fym2HqtKGElM"
      }
    },
    {
      "cell_type": "markdown",
      "source": [
        "## Evaluate the models"
      ],
      "metadata": {
        "id": "FDoUfKUqGawg"
      }
    },
    {
      "cell_type": "code",
      "source": [
        "names = ['Logistic Regression', 'KNN', 'SVM', 'Decision Tree', 'Random Forest', 'AdaBoost']\n",
        "classifiers = [lr_model, knn_model, svm_model, dtc_model, rfc_model, abc_model]\n",
        "\n",
        "scores = []\n",
        "for name, clf in zip(names, classifiers):\n",
        "    clf.fit(X_train, y_train)\n",
        "    score = clf.score(X_test, y_test)\n",
        "    scores.append(score)\n",
        "\n",
        "df_models = pd.DataFrame()\n",
        "df_models['name'] = names\n",
        "df_models['score'] = scores\n",
        "cm = sns.light_palette(\"brown\", as_cmap=True)\n",
        "s = df_models.style.background_gradient(cmap=cm)"
      ],
      "metadata": {
        "id": "YKcOkX_wF5jY"
      },
      "execution_count": null,
      "outputs": []
    },
    {
      "cell_type": "markdown",
      "source": [
        "Both tree based models still performed well on the test data, but Logistic Regression showed the highest accuracy and smallest drop for the test set.\n",
        "Random Forest had the second highest accuracy score of 0.95, while Decision Tree dropped to 0.9.\n",
        "The other models had scores between 0.68 and 0.87."
      ],
      "metadata": {
        "id": "EML9QNfwGLYD"
      }
    },
    {
      "cell_type": "code",
      "source": [
        "# Classification report for best 3 models\n",
        "print(f\"Logistic Regression:\\n{classification_report(y_test, lr_model.predict(X_test))}\")\n",
        "print(f\"Random Forrest Classification:\\n{classification_report(y_test, rfc_model.predict(X_test))}\")\n",
        "print(f\"Decision Tree Classification:\\n{classification_report(y_test, dtc_model.predict(X_test))}\")"
      ],
      "metadata": {
        "id": "nITYlpUeF5cF"
      },
      "execution_count": null,
      "outputs": []
    },
    {
      "cell_type": "markdown",
      "source": [
        "Logistic Regression has the highest accuracy overall, incl. average precision, recall, and f-1 scores for the different vehicle classes, whereas Random Forrest performs a bit worse on classifying vans, and Decision Tree struggles comparatively more with cars."
      ],
      "metadata": {
        "id": "9N-HwqwZGQRD"
      }
    },
    {
      "cell_type": "code",
      "source": [
        "y_pred = rfc_model.predict(X_test)\n",
        "accuracy_score(y_pred, y_test)"
      ],
      "metadata": {
        "id": "YshnOiqVF5Si"
      },
      "execution_count": null,
      "outputs": []
    },
    {
      "cell_type": "code",
      "source": [
        "def evaluate_model(model, X_train, y_train, X_test, y_test):\n",
        "    # Reassign numeric class through encoder\n",
        "    # enc = LabelEncoder()\n",
        "    # y_train = enc.fit_transform(y_train)\n",
        "    # y_test = enc.fit_transform(y_test)\n",
        "\n",
        "    # Train predictions\n",
        "    train_pred = model.predict(X_train)\n",
        "\n",
        "    # Test predictions\n",
        "    test_pred = model.predict(X_test)\n",
        "\n",
        "    # Train confusion matrix\n",
        "    train_conf_matrix = confusion_matrix(y_train, train_pred)\n",
        "    print(\"\\nTrain Confusion Matrix:\")\n",
        "    print(train_conf_matrix)\n",
        "\n",
        "    # Test confusion matrix\n",
        "    test_conf_matrix = confusion_matrix(y_test, test_pred)\n",
        "    print(\"\\nTest Confusion Matrix:\")\n",
        "    print(test_conf_matrix)\n",
        "    return train_pred, test_pred, train_conf_matrix, test_conf_matrix\n"
      ],
      "metadata": {
        "id": "WU6JDJZcGf21"
      },
      "execution_count": null,
      "outputs": []
    },
    {
      "cell_type": "code",
      "source": [
        "train_pred_lr, test_pred_lr, train_conf_matrix_lr, test_conf_matrix_lr = evaluate_model(lr_model, X_train, y_train, X_test, y_test)"
      ],
      "metadata": {
        "id": "T0zKy8bwGgkf"
      },
      "execution_count": null,
      "outputs": []
    },
    {
      "cell_type": "code",
      "source": [
        "# Min-max scale the confusion matrices\n",
        "train_conf_matrix_scaled = (train_conf_matrix_lr - np.min(train_conf_matrix_lr)) / (np.max(train_conf_matrix_lr) - np.min(train_conf_matrix_lr))\n",
        "test_conf_matrix_scaled = (test_conf_matrix_lr - np.min(test_conf_matrix_lr)) / (np.max(test_conf_matrix_lr) - np.min(test_conf_matrix_lr))\n"
      ],
      "metadata": {
        "id": "SF_vwOdxGgiZ"
      },
      "execution_count": null,
      "outputs": []
    },
    {
      "cell_type": "code",
      "source": [
        "# Plot the heatmaps of the confusion matrices\n",
        "\n",
        "fig, axes = plt.subplots(1, 2, figsize=(12, 5))\n",
        "\n",
        "sns.heatmap(train_conf_matrix_scaled , annot=True, fmt=\".2f\", cmap=\"Blues\", ax=axes[0])\n",
        "axes[0].set_title(\"Train Confusion Matrix (Scaled)\")\n",
        "axes[0].set_xlabel(\"Predicted\")\n",
        "axes[0].set_ylabel(\"Actual\")\n",
        "\n",
        "sns.heatmap(test_conf_matrix_scaled , annot=True, fmt=\".2f\", cmap=\"Blues\", ax=axes[1])\n",
        "axes[1].set_title(\"Test Confusion Matrix (Scaled)\")\n",
        "axes[1].set_xlabel(\"Predicted\")\n",
        "axes[1].set_ylabel(\"Actual\")\n",
        "\n",
        "plt.tight_layout()\n",
        "plt.show()"
      ],
      "metadata": {
        "id": "jutPruk_GggD"
      },
      "execution_count": null,
      "outputs": []
    },
    {
      "cell_type": "markdown",
      "source": [
        "Something seems wrong here."
      ],
      "metadata": {
        "id": "JMi6U5oZGuVQ"
      }
    },
    {
      "cell_type": "code",
      "source": [
        "# Train ROC AUC score\n",
        "train_pred_proba = lr_model.predict_proba(X_train)\n",
        "train_roc_auc = roc_auc_score(y_train_encoded, train_pred_proba, multi_class='ovr')\n",
        "print(\"\\nTrain ROC AUC Score:\", train_roc_auc)\n",
        "\n",
        "# Test ROC AUC score\n",
        "test_pred_proba = lr_model.predict_proba(X_test)\n",
        "test_roc_auc = roc_auc_score(y_test_encoded, test_pred_proba, multi_class='ovr')\n",
        "print(\"Test ROC AUC Score:\", test_roc_auc)"
      ],
      "metadata": {
        "id": "5KoWFVcrGgds"
      },
      "execution_count": null,
      "outputs": []
    },
    {
      "cell_type": "code",
      "source": [
        "# plot ROC curve for each class\n",
        "fpr = {}\n",
        "tpr = {}\n",
        "thresholds = {}\n",
        "n_classes = test_pred_proba.shape[1]\n",
        "\n",
        "for i in range(n_classes):\n",
        "    fpr[i], tpr[i], thresholds[i] = roc_curve((y_test_encoded == i).astype(int), test_pred_proba[:, i])\n",
        "\n",
        "\n",
        "fig, axes = plt.subplots(1, n_classes, figsize=(12, 4))\n",
        "\n",
        "for i, ax in enumerate(axes):\n",
        "    ax.plot(fpr[i], tpr[i], label=f\"Class {i} ROC curve\")\n",
        "    ax.plot([0, 1], [0, 1], 'k--', label='Random guess')\n",
        "    ax.set_xlabel(\"False Positive Rate\")\n",
        "    ax.set_ylabel(\"True Positive Rate\")\n",
        "    ax.set_title(f\"ROC Curve for Class {i} - {enc.classes_[i]}\")\n",
        "    ax.legend(loc=\"best\")\n",
        "\n",
        "plt.tight_layout()\n",
        "plt.show()\n"
      ],
      "metadata": {
        "id": "YLD76KCdGgbG"
      },
      "execution_count": null,
      "outputs": []
    },
    {
      "cell_type": "markdown",
      "source": [
        "## Decision made:"
      ],
      "metadata": {
        "id": "veDJ4OsMG66r"
      }
    },
    {
      "cell_type": "markdown",
      "source": [
        "Happy with this result and should be a very good and simple model to use for car classification for the customer."
      ],
      "metadata": {
        "id": "fBqaSvMvG4zL"
      }
    },
    {
      "cell_type": "markdown",
      "source": [
        "## Some hyperparameter tuning for Random Forrest Classifier & other Visualisations"
      ],
      "metadata": {
        "id": "xgTJ27ZaHCTu"
      }
    },
    {
      "cell_type": "code",
      "source": [
        "param_grid = {'n_estimators': [50, 100, 150, 200],\n",
        "              'max_depth': [10, 20, 30, 40, 50]}\n",
        "grid = GridSearchCV(estimator=rfc,\n",
        "                    param_grid=param_grid,\n",
        "                    scoring='accuracy',\n",
        "                    cv=5)\n",
        "\n",
        "grid.fit(X_train, y_train)  # Fit the model\n",
        "grid.best_params_  # Get the best parameters\n",
        "grid.best_score_  # Get the best score\n",
        "grid.best_estimator_  # Get the best estimator\n"
      ],
      "metadata": {
        "id": "oFPDv4EdGgYx"
      },
      "execution_count": null,
      "outputs": []
    },
    {
      "cell_type": "code",
      "source": [
        "max_features_range = np.arange(1,11,1)\n",
        "n_estimators_range = np.arange(10,100,10)\n",
        "param_grid = dict(max_features=max_features_range, n_estimators=n_estimators_range)\n",
        "\n",
        "rf = RandomForestClassifier()\n",
        "\n",
        "grid = GridSearchCV(estimator=rf, param_grid=param_grid, cv=5)\n",
        "\n",
        "grid.fit(X_train, y_train_encoded)"
      ],
      "metadata": {
        "id": "NivdXeksGgVI"
      },
      "execution_count": null,
      "outputs": []
    },
    {
      "cell_type": "code",
      "source": [
        "print(f\"The best parameters are {grid.best_params_}\\nwith a score of {grid.best_score_:.2f}\")\n"
      ],
      "metadata": {
        "id": "-btpSFdzGgOY"
      },
      "execution_count": null,
      "outputs": []
    },
    {
      "cell_type": "markdown",
      "source": [
        "Did not improve results a whole lot with the data currently at hand."
      ],
      "metadata": {
        "id": "ZKJ5ZkYGHMM6"
      }
    },
    {
      "cell_type": "markdown",
      "source": [
        "### Contour Plots for GridSeachCV"
      ],
      "metadata": {
        "id": "f_11dTCEHCvb"
      }
    },
    {
      "cell_type": "code",
      "source": [
        "# plot contour plots for the grid search output anyway\n",
        "grid_results = pd.concat([pd.DataFrame(grid.cv_results_[\"params\"]),pd.DataFrame(grid.cv_results_[\"mean_test_score\"], columns=[\"Accuracy\"])],axis=1)\n",
        "grid_results.head()"
      ],
      "metadata": {
        "id": "4Hkyb0h5HTpc"
      },
      "execution_count": null,
      "outputs": []
    },
    {
      "cell_type": "code",
      "source": [
        "grid_contour = grid_results.groupby(['max_features','n_estimators']).mean()\n",
        "grid_contour"
      ],
      "metadata": {
        "id": "zKYeUH8NHTmT"
      },
      "execution_count": null,
      "outputs": []
    },
    {
      "cell_type": "code",
      "source": [
        "grid_reset = grid_contour.reset_index()\n",
        "grid_reset"
      ],
      "metadata": {
        "id": "sChe5C87HTjL"
      },
      "execution_count": null,
      "outputs": []
    },
    {
      "cell_type": "code",
      "source": [
        "grid_pivot = grid_reset.pivot(index='max_features', columns='n_estimators', values='Accuracy')\n",
        "grid_pivot"
      ],
      "metadata": {
        "id": "JFYMMeRgHTZF"
      },
      "execution_count": null,
      "outputs": []
    },
    {
      "cell_type": "code",
      "source": [
        "x = grid_pivot.columns.values\n",
        "y = grid_pivot.index.values\n",
        "z = grid_pivot.values"
      ],
      "metadata": {
        "id": "RoKNfnulHc6K"
      },
      "execution_count": null,
      "outputs": []
    },
    {
      "cell_type": "code",
      "source": [
        "# 2D contour plot of accuracy\n",
        "layout = go.Layout(\n",
        "            xaxis=go.layout.XAxis(\n",
        "              title=go.layout.xaxis.Title(\n",
        "              text='n_estimators')\n",
        "             ),\n",
        "             yaxis=go.layout.YAxis(\n",
        "              title=go.layout.yaxis.Title(\n",
        "              text='max_features')\n",
        "            ) )\n",
        "\n",
        "fig = go.Figure(data = [go.Contour(z=z, x=x, y=y)], layout=layout )\n",
        "\n",
        "fig.update_layout(title='Hyperparameter tuning', autosize=False,\n",
        "                  width=500, height=500,\n",
        "                  margin=dict(l=65, r=50, b=65, t=90))"
      ],
      "metadata": {
        "id": "nRejZEcpHrtk"
      },
      "execution_count": null,
      "outputs": []
    },
    {
      "cell_type": "code",
      "source": [
        "# 3D contour plot of accuracy\n",
        "\n",
        "fig = go.Figure(data= [go.Surface(z=z, y=y, x=x)], layout=layout )\n",
        "fig.update_layout(title='Hyperparameter tuning',\n",
        "                  scene = dict(\n",
        "                    xaxis_title='n_estimators',\n",
        "                    yaxis_title='max_features',\n",
        "                    zaxis_title='Accuracy'),\n",
        "                  autosize=False,\n",
        "                  width=800, height=800,\n",
        "                  margin=dict(l=65, r=50, b=65, t=90))\n",
        "fig.show()"
      ],
      "metadata": {
        "id": "4C7dj2YwHtDM"
      },
      "execution_count": null,
      "outputs": []
    },
    {
      "cell_type": "markdown",
      "source": [
        "### Visualise Decision Tree"
      ],
      "metadata": {
        "id": "5O9rM8H8Hs3w"
      }
    },
    {
      "cell_type": "code",
      "source": [
        "# Visualize the decision tree\n",
        "plt.figure(figsize=(10, 6))\n",
        "tree.plot_tree(dtc_model.named_steps['decisiontreeclassifier'], feature_names=X_train.columns, class_names=[str(el) for el in y_train.unique()], filled=True)\n",
        "plt.show()"
      ],
      "metadata": {
        "id": "S1Np7dJ4HshG"
      },
      "execution_count": null,
      "outputs": []
    }
  ]
}